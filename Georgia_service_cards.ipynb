{
 "cells": [
  {
   "cell_type": "markdown",
   "metadata": {},
   "source": [
    "# Georgia Service Cards\n",
    "This file gets information on soldiers that enlisted in Georgia and died serving in World War one and looks at the information we get about detah place and date.  \n",
    "Author: Ben Branchflower  \n",
    "Created: 6 Sep 2018"
   ]
  },
  {
   "cell_type": "code",
   "execution_count": 1,
   "metadata": {},
   "outputs": [],
   "source": [
    "from bs4 import BeautifulSoup\n",
    "import pandas as pd\n",
    "from matplotlib import pyplot as plt\n",
    "import requests\n",
    "import seaborn\n",
    "\n",
    "%matplotlib inline"
   ]
  },
  {
   "cell_type": "markdown",
   "metadata": {},
   "source": [
    "## Getting the data\n",
    "Scraping the source code of the page with the data on the soldiers"
   ]
  },
  {
   "cell_type": "code",
   "execution_count": 2,
   "metadata": {},
   "outputs": [],
   "source": [
    "with requests.Session() as s:\n",
    "    # letting them know who I am and assuring I get the same response type every time\n",
    "    s.headers.update({'User-Agent':'benbranchflower@gmail.com', 'Accept':'tex/html'})\n",
    "    response = s.get('https://www.worldwar1centennial.org/index.php/georgia-memorial-database.html')\n",
    "    if response.status_code != 200:\n",
    "        raise ValueError(\"Bad response code\")"
   ]
  },
  {
   "cell_type": "markdown",
   "metadata": {},
   "source": [
    "There is only one table in the response text so I can just loop over the rows and get data on each of the individuals "
   ]
  },
  {
   "cell_type": "code",
   "execution_count": 3,
   "metadata": {},
   "outputs": [
    {
     "data": {
      "text/html": [
       "<div>\n",
       "<style scoped>\n",
       "    .dataframe tbody tr th:only-of-type {\n",
       "        vertical-align: middle;\n",
       "    }\n",
       "\n",
       "    .dataframe tbody tr th {\n",
       "        vertical-align: top;\n",
       "    }\n",
       "\n",
       "    .dataframe thead th {\n",
       "        text-align: right;\n",
       "    }\n",
       "</style>\n",
       "<table border=\"1\" class=\"dataframe\">\n",
       "  <thead>\n",
       "    <tr style=\"text-align: right;\">\n",
       "      <th></th>\n",
       "      <th>Rank</th>\n",
       "      <th>Name</th>\n",
       "      <th>County</th>\n",
       "      <th>City</th>\n",
       "      <th>Death date</th>\n",
       "      <th>Eth.</th>\n",
       "      <th>Citation</th>\n",
       "      <th>Disposition</th>\n",
       "      <th>Photo</th>\n",
       "    </tr>\n",
       "  </thead>\n",
       "  <tbody>\n",
       "    <tr>\n",
       "      <th>1</th>\n",
       "      <td>PVT</td>\n",
       "      <td>Aaron, Charlie Floyd</td>\n",
       "      <td>Newton</td>\n",
       "      <td>Starrsville</td>\n",
       "      <td>9-Oct-1918</td>\n",
       "      <td>W</td>\n",
       "      <td>MB 132, Newton, GDC, Knight</td>\n",
       "      <td>infection - France</td>\n",
       "      <td>yes</td>\n",
       "    </tr>\n",
       "    <tr>\n",
       "      <th>2</th>\n",
       "      <td>CPL</td>\n",
       "      <td>Abercrombie, Lewis Felton</td>\n",
       "      <td>Fulton</td>\n",
       "      <td>Atlanta</td>\n",
       "      <td>8-Jun-1918</td>\n",
       "      <td>W</td>\n",
       "      <td>GDC</td>\n",
       "      <td>wound</td>\n",
       "      <td></td>\n",
       "    </tr>\n",
       "    <tr>\n",
       "      <th>3</th>\n",
       "      <td>PVT</td>\n",
       "      <td>Abner, Cecil</td>\n",
       "      <td>Polk</td>\n",
       "      <td>Rockmart</td>\n",
       "      <td>23-May-1919</td>\n",
       "      <td>W</td>\n",
       "      <td>MB 136, GDC, Knight</td>\n",
       "      <td>pneumonia - overseas</td>\n",
       "      <td>yes</td>\n",
       "    </tr>\n",
       "    <tr>\n",
       "      <th>4</th>\n",
       "      <td>PVT</td>\n",
       "      <td>Abner, Lewis Felton</td>\n",
       "      <td>Polk</td>\n",
       "      <td></td>\n",
       "      <td>23-Aug-1918</td>\n",
       "      <td></td>\n",
       "      <td>GDC</td>\n",
       "      <td>pneumonia</td>\n",
       "      <td></td>\n",
       "    </tr>\n",
       "    <tr>\n",
       "      <th>5</th>\n",
       "      <td>PVT</td>\n",
       "      <td>Adair, Chester Price</td>\n",
       "      <td>Clarke</td>\n",
       "      <td>Athens</td>\n",
       "      <td>14-Sep-1918</td>\n",
       "      <td>W</td>\n",
       "      <td>MB 051, Knight</td>\n",
       "      <td>infection</td>\n",
       "      <td>yes</td>\n",
       "    </tr>\n",
       "  </tbody>\n",
       "</table>\n",
       "</div>"
      ],
      "text/plain": [
       "0 Rank                       Name  County         City   Death date Eth.  \\\n",
       "1  PVT       Aaron, Charlie Floyd  Newton  Starrsville   9-Oct-1918    W   \n",
       "2  CPL  Abercrombie, Lewis Felton  Fulton      Atlanta   8-Jun-1918    W   \n",
       "3  PVT               Abner, Cecil    Polk     Rockmart  23-May-1919    W   \n",
       "4  PVT        Abner, Lewis Felton    Polk               23-Aug-1918        \n",
       "5  PVT       Adair, Chester Price  Clarke       Athens  14-Sep-1918    W   \n",
       "\n",
       "0                     Citation           Disposition Photo  \n",
       "1  MB 132, Newton, GDC, Knight    infection - France   yes  \n",
       "2                          GDC                 wound        \n",
       "3          MB 136, GDC, Knight  pneumonia - overseas   yes  \n",
       "4                          GDC             pneumonia        \n",
       "5               MB 051, Knight             infection   yes  "
      ]
     },
     "execution_count": 3,
     "metadata": {},
     "output_type": "execute_result"
    }
   ],
   "source": [
    "soup = BeautifulSoup(response.text, 'html5lib')\n",
    "# this next line makes the table a list of list to be fed into the pandas Dataframe instantiation\n",
    "df = pd.DataFrame([[d.text for d in row.find_all('td')][:-1] for row in soup.find_all('tr')])\n",
    "# Moving the first row to be the headers and the dropping them\n",
    "df.columns = df.iloc[0,:]\n",
    "df = df.reindex(df.index.drop(0)) \n",
    "# taking a peek to see if things are working properly\n",
    "df.head()"
   ]
  },
  {
   "cell_type": "markdown",
   "metadata": {},
   "source": [
    "# Cleaning the data\n",
    "The data is pretty messy so I will clean up some column names and then make some new columns from what we have so the columns are a little more precise."
   ]
  },
  {
   "cell_type": "code",
   "execution_count": null,
   "metadata": {},
   "outputs": [],
   "source": [
    "df.rename({'Eth.':'Ethnicity'}, axis='columns', inplace=True)\n",
    "df['Death Place'] = df.Disposition.str.extract(r'-\\s([A-Z].+)\\s?$')\n",
    "df['State'] = 'Georgia'\n",
    "df['Surname'] = df.Name.str.extract(r'^(.+),') # separating the names into different columns\n",
    "df['Given Names'] = df.Name.str.extract(r', (.+)$')\n",
    "df['Death Day'] = df['Death date'].str.extract(r'^(\\d{1,2})-') # splitting the death date into parts\n",
    "df['Death Month'] = df['Death date'].str.extract(r'-(\\w+)-')\n",
    "df['Death Year'] = df['Death date'].str.extract(r'-(\\d{4})$')\n",
    "df['Death Month Year'] = df['Death Month'].str.cat(df['Death Year'], sep=' ')\n",
    "df['Death date'] = df['Death date'].str.replace(r'-', ' ') # cleaning up the look of the death date\n",
    "df['Cause of Death'] = df['Disposition'].str.extract(r'(.+?)(?:\\s?-|$)')\n",
    "df.head()"
   ]
  },
  {
   "cell_type": "markdown",
   "metadata": {},
   "source": [
    "Now that what we have is a little cleaner, let's move on to getting some counts of the occurences of different counties, death place, surnames and death month."
   ]
  },
  {
   "cell_type": "code",
   "execution_count": null,
   "metadata": {},
   "outputs": [],
   "source": [
    "surn_occurs = dict(df['Surname'].value_counts()) # getting a dictionary for numbers of appearances\n",
    "df['surn_occur'] = [surn_occurs.get(x, 0) for x in df['Surname']] # filling the column with the corresponding data\n",
    "dp_occurs = dict(df['Death Place'].value_counts()) # lather\n",
    "df['dplace_occur'] = [dp_occurs.get(x, 0) for x in df['Death Place']]\n",
    "dm_occurs = dict(df['Death Month Year'].value_counts()) # rinse\n",
    "df['dmonth_occur'] = [dm_occurs.get(x, 0) for x in df['Death Month Year']]\n",
    "dp_co_occurs = df['Death Place'].str.cat(df['County']).value_counts(dropna=True) # repeat\n",
    "df['county_dplace_occur'] = [dp_co_occurs.get(x, 0) for x in df['Death Place'].str.cat(df['County']).fillna('')]\n",
    "df.head()"
   ]
  },
  {
   "cell_type": "markdown",
   "metadata": {},
   "source": [
    "# Visualisation  \n",
    "Now, let's look at what this data can show us with some bar plots initially to gett a feel for how and when the soldiers died"
   ]
  },
  {
   "cell_type": "code",
   "execution_count": null,
   "metadata": {},
   "outputs": [],
   "source": [
    "def make_barplot(x, y, xlab, ylab, xrotation='vertical'):\n",
    "    \"\"\"This makes a quick barplot with matplotlib\"\"\"\n",
    "    plt.xticks(rotation=xrotation)\n",
    "    plt.xlabel(xlab)\n",
    "    plt.ylabel(ylab)\n",
    "    plt.bar(x, y)\n",
    "\n",
    "# the number of date makes it hard to look at so lets just look at 20 of the months\n",
    "make_barplot(df['Death Month Year'].value_counts()[:20].index,\n",
    "            df['Death Month Year'].value_counts()[:20], xlab='Month of Death',\n",
    "            ylab='Number of Deaths')"
   ]
  },
  {
   "cell_type": "code",
   "execution_count": null,
   "metadata": {},
   "outputs": [],
   "source": [
    "make_barplot(df['Cause of Death'].value_counts()[:20].index,\n",
    "            df['Cause of Death'].value_counts()[:20], xlab='Cause of Death',\n",
    "            ylab='Number of Deaths', xrotation='vertical')"
   ]
  },
  {
   "cell_type": "markdown",
   "metadata": {},
   "source": [
    "So it looks like the biggest times of death were September and November of 1918 from pneumonia and infection. Let's look at how that looks if we separate the data by location as well. We should be able to get a feel for where some of the battles were if a lot casualties occured in one place at a given time."
   ]
  },
  {
   "cell_type": "code",
   "execution_count": null,
   "metadata": {},
   "outputs": [],
   "source": [
    "sns.set()\n",
    "# creating a summay table of deaths by month and death place\n",
    "def make_heatmap(df, index, columns, values):\n",
    "    \"\"\"This finction makes a heatmap by counts of categorical variables\"\"\"\n",
    "    temp = pd.pivot_table(df, index=index, columns=columns,\n",
    "                              values=values, dropna=True, fill_value=0)\n",
    "    temp.dropna(how='all', inplace=True)\n",
    "    temp = temp[temp.max(axis=1) > 3]\n",
    "    temp = temp.transpose()[temp.transpose().max(axis=1) > 1]\n",
    "    seaborn.heatmap(temp)\n",
    "make_heatmap(df, index='Death Month Year', columns='Death Place', values='county_dplace_occur')"
   ]
  },
  {
   "cell_type": "markdown",
   "metadata": {},
   "source": [
    "Let's do a similar thing with places the soldiers enlisted and where the soldiers died to look at how the deaths change by places and month of death."
   ]
  },
  {
   "cell_type": "code",
   "execution_count": null,
   "metadata": {},
   "outputs": [],
   "source": [
    "make_heatmap(df, index='County', columns='Death Place', values='county_dplace_occur')"
   ]
  },
  {
   "cell_type": "markdown",
   "metadata": {},
   "source": [
    "We can look at how people died in different locations as well"
   ]
  },
  {
   "cell_type": "code",
   "execution_count": null,
   "metadata": {},
   "outputs": [],
   "source": [
    "make_heatmap(df, index='Cause of Death', columns='Death Place', values='county_dplace_occur')"
   ]
  },
  {
   "cell_type": "markdown",
   "metadata": {},
   "source": [
    "So for this it looks like while many people died of illness like pneumonie or infections, they were not the primary cause of death in France."
   ]
  }
 ],
 "metadata": {
  "kernelspec": {
   "display_name": "Python 3",
   "language": "python",
   "name": "python3"
  },
  "language_info": {
   "codemirror_mode": {
    "name": "ipython",
    "version": 3
   },
   "file_extension": ".py",
   "mimetype": "text/x-python",
   "name": "python",
   "nbconvert_exporter": "python",
   "pygments_lexer": "ipython3",
   "version": "3.6.5"
  }
 },
 "nbformat": 4,
 "nbformat_minor": 2
}
