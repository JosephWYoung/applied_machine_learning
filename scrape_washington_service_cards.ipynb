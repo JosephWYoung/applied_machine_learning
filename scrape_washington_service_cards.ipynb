{
 "cells": [
  {
   "cell_type": "markdown",
   "metadata": {},
   "source": [
    "This file scrape the Washington secretary of state's website\n",
    "to get the data on the Washington World war one service cards \n",
    "Created: 6 Sep 2018\n",
    "Author: Ben Branchflower"
   ]
  },
  {
   "cell_type": "code",
   "execution_count": null,
   "metadata": {},
   "outputs": [],
   "source": [
    "import string\n",
    "\n",
    "from bs4 import BeautifulSoup\n",
    "import requests\n",
    "\n",
    "\n",
    "def get_people_links(session, letter):\n",
    "    \"\"\"This will get all of the pages to grab for a given letter\"\"\"\n",
    "    response = session.get() # put in the search url \n",
    "\n",
    "\n",
    "def get_person_info(session, url):\n",
    "    \"\"\"This function gets all the data from a person's page\"\"\"\n",
    "    response = session.get(url)"
   ]
  }
 ],
 "metadata": {
  "kernelspec": {
   "display_name": "Python 3",
   "language": "python",
   "name": "python3"
  },
  "language_info": {
   "codemirror_mode": {
    "name": "ipython",
    "version": 3
   },
   "file_extension": ".py",
   "mimetype": "text/x-python",
   "name": "python",
   "nbconvert_exporter": "python",
   "pygments_lexer": "ipython3",
   "version": "3.6.5"
  }
 },
 "nbformat": 4,
 "nbformat_minor": 2
}
